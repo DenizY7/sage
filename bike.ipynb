{
 "cells": [
  {
   "cell_type": "markdown",
   "metadata": {},
   "source": [
    "# Load data from [here](https://www.kaggle.com/c/bike-sharing-demand)"
   ]
  },
  {
   "cell_type": "code",
   "execution_count": 1,
   "metadata": {},
   "outputs": [],
   "source": [
    "import numpy as np\n",
    "import pandas as pd\n",
    "from data.utils import split_data"
   ]
  },
  {
   "cell_type": "code",
   "execution_count": 2,
   "metadata": {},
   "outputs": [],
   "source": [
    "# Load data.\n",
    "df = pd.read_table('datasets/bike.csv', sep=',',\n",
    "                   header=0, index_col=None)\n",
    "columns = list(df.columns)\n",
    "\n",
    "# Split datetime column.\n",
    "df['datetime'] = pd.to_datetime(df['datetime'])\n",
    "df['year'] = df['datetime'].dt.year\n",
    "df['month'] = df['datetime'].dt.month\n",
    "df['day'] = df['datetime'].dt.day\n",
    "df['hour'] = df['datetime'].dt.hour\n",
    "\n",
    "# Remove datetime column.\n",
    "df = df.drop('datetime', axis=1)\n",
    "\n",
    "# Reorder columns.\n",
    "df = df[['year', 'month', 'day', 'hour'] + columns[1:]]\n",
    "\n",
    "# Feature names.\n",
    "features = df.columns[:-3]"
   ]
  },
  {
   "cell_type": "code",
   "execution_count": 3,
   "metadata": {},
   "outputs": [],
   "source": [
    "# Split data, with total count serving as regression target.\n",
    "train, val, test = split_data(df.values, seed=123,\n",
    "                              val_portion=0.1,\n",
    "                              test_portion=0.1)\n",
    "Y_train = train[:, -1][:, np.newaxis]\n",
    "Y_val = val[:, -1][:, np.newaxis]\n",
    "Y_test = test[:, -1][:, np.newaxis]\n",
    "train = train[:, :-3]\n",
    "val = val[:, :-3]\n",
    "test = test[:, :-3]"
   ]
  },
  {
   "cell_type": "markdown",
   "metadata": {},
   "source": [
    "# Train model"
   ]
  },
  {
   "cell_type": "code",
   "execution_count": 4,
   "metadata": {},
   "outputs": [],
   "source": [
    "import torch\n",
    "import torch.nn as nn\n",
    "from models.mlp import MLP\n",
    "from models.utils import validate_pytorch\n",
    "from models.train_pytorch import TrainPyTorch\n",
    "from data.utils import TabularDataset\n",
    "from torch.utils.data import DataLoader, RandomSampler, BatchSampler"
   ]
  },
  {
   "cell_type": "code",
   "execution_count": 5,
   "metadata": {},
   "outputs": [],
   "source": [
    "# Prepare data loaders.\n",
    "train_set = TabularDataset(train, Y_train)\n",
    "val_set = TabularDataset(val, Y_val)\n",
    "train_loader = DataLoader(\n",
    "    train_set, batch_sampler=BatchSampler(\n",
    "        RandomSampler(train_set, replacement=True),\n",
    "        batch_size=512, drop_last=False))\n",
    "val_loader = DataLoader(val_set, batch_size=len(val_set))"
   ]
  },
  {
   "cell_type": "code",
   "execution_count": 6,
   "metadata": {
    "scrolled": true
   },
   "outputs": [],
   "source": [
    "# Set up model.\n",
    "model = MLP(input_size=train.shape[1],\n",
    "            output_size=1,\n",
    "            hidden=[256, 256, 256],\n",
    "            activation='elu').to(device=torch.device('cuda'))\n",
    "\n",
    "# Train model.\n",
    "trainer = TrainPyTorch(model)\n",
    "trainer.train(train_loader,\n",
    "              val_loader,\n",
    "              lr=1e-3,\n",
    "              mbsize=64,\n",
    "              nepochs=250,\n",
    "              loss_fn=nn.MSELoss(),\n",
    "              check_every=250,\n",
    "              lookback=50,\n",
    "              verbose=False)"
   ]
  },
  {
   "cell_type": "code",
   "execution_count": 7,
   "metadata": {},
   "outputs": [
    {
     "name": "stdout",
     "output_type": "stream",
     "text": [
      "Base rate MSE = 32212.883\n",
      "Model MSE = 4938.803\n"
     ]
    }
   ],
   "source": [
    "# Base rate performance.\n",
    "mean = np.mean(Y_train)\n",
    "print('Base rate MSE = {:.3f}'.format(\n",
    "    np.mean((mean - Y_val) ** 2)))\n",
    "\n",
    "# Model performance.\n",
    "print('Model MSE = {:.3f}'.format(\n",
    "    validate_pytorch(model, val_loader, nn.MSELoss())))"
   ]
  },
  {
   "cell_type": "markdown",
   "metadata": {},
   "source": [
    "# Calculate feature importance"
   ]
  },
  {
   "cell_type": "code",
   "execution_count": 8,
   "metadata": {},
   "outputs": [],
   "source": [
    "from importance import sage\n",
    "from importance.utils import MarginalImputation\n",
    "import matplotlib.pyplot as plt"
   ]
  },
  {
   "cell_type": "code",
   "execution_count": 9,
   "metadata": {},
   "outputs": [
    {
     "data": {
      "application/vnd.jupyter.widget-view+json": {
       "model_id": "dc5bf80528d9414b930f34eac8dd6264",
       "version_major": 2,
       "version_minor": 0
      },
      "text/plain": [
       "HBox(children=(IntProgress(value=0, max=49152), HTML(value='')))"
      ]
     },
     "metadata": {},
     "output_type": "display_data"
    }
   ],
   "source": [
    "# Create dataset.\n",
    "dataset = TabularDataset(test, Y_test)\n",
    "\n",
    "# Imputation module for held out features.\n",
    "imputation = MarginalImputation(train)\n",
    "\n",
    "# Run SAGE.\n",
    "scores = sage.permutation_sampling(\n",
    "    model,\n",
    "    dataset,\n",
    "    imputation,\n",
    "    'mse',\n",
    "    n_samples=2 ** 12,\n",
    "    m_samples=512,\n",
    "    batch_size=2 ** 10,\n",
    "    bar=True)"
   ]
  },
  {
   "cell_type": "code",
   "execution_count": 10,
   "metadata": {},
   "outputs": [
    {
     "name": "stdout",
     "output_type": "stream",
     "text": [
      "\n"
     ]
    },
    {
     "data": {
      "image/png": "[encoded data removed]",
      "text/plain": [
       "<Figure size 864x432 with 1 Axes>"
      ]
     },
     "metadata": {
      "needs_background": "light"
     },
     "output_type": "display_data"
    }
   ],
   "source": [
    "# Visualize feature importance.\n",
    "plt.figure(figsize=(12, 6))\n",
    "\n",
    "plt.bar(np.arange(len(scores)), scores)\n",
    "plt.xticks(np.arange(len(scores)), map(str.title, features),\n",
    "           rotation=45, ha='right', rotation_mode='anchor')\n",
    "plt.tick_params('both', labelsize=14)\n",
    "plt.title('SAGE feature importance', fontsize=18)\n",
    "\n",
    "plt.show()"
   ]
  },
  {
   "cell_type": "code",
   "execution_count": null,
   "metadata": {},
   "outputs": [],
   "source": []
  }
 ],
 "metadata": {
  "kernelspec": {
   "display_name": "Python 3",
   "language": "python",
   "name": "python3"
  },
  "language_info": {
   "codemirror_mode": {
    "name": "ipython",
    "version": 3
   },
   "file_extension": ".py",
   "mimetype": "text/x-python",
   "name": "python",
   "nbconvert_exporter": "python",
   "pygments_lexer": "ipython3",
   "version": "3.6.8"
  }
 },
 "nbformat": 4,
 "nbformat_minor": 2
}
