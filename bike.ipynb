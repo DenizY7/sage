{
 "cells": [
  {
   "cell_type": "markdown",
   "metadata": {},
   "source": [
    "# Load data\n",
    "<https://www.kaggle.com/c/bike-sharing-demand>"
   ]
  },
  {
   "cell_type": "code",
   "execution_count": 1,
   "metadata": {},
   "outputs": [],
   "source": [
    "import numpy as np\n",
    "import pandas as pd\n",
    "from data.utils import split_data"
   ]
  },
  {
   "cell_type": "code",
   "execution_count": 2,
   "metadata": {},
   "outputs": [],
   "source": [
    "# Load data.\n",
    "df = pd.read_table('data/bike.csv', sep=',',\n",
    "                   header=0, index_col=None)\n",
    "columns = list(df.columns)\n",
    "\n",
    "# Split datetime column.\n",
    "df['datetime'] = pd.to_datetime(df['datetime'])\n",
    "df['year'] = df['datetime'].dt.year\n",
    "df['month'] = df['datetime'].dt.month\n",
    "df['day'] = df['datetime'].dt.day\n",
    "df['hour'] = df['datetime'].dt.hour\n",
    "\n",
    "# Remove datetime column.\n",
    "df = df.drop('datetime', axis=1)\n",
    "\n",
    "# Reorder columns.\n",
    "df = df[['year', 'month', 'day', 'hour'] + columns[1:]]\n",
    "\n",
    "# Feature names.\n",
    "features = df.columns[:-3]"
   ]
  },
  {
   "cell_type": "code",
   "execution_count": 3,
   "metadata": {},
   "outputs": [],
   "source": [
    "# Split data, with total count serving as regression target.\n",
    "train, val, test = split_data(df.values, seed=123,\n",
    "                              val_portion=0.1,\n",
    "                              test_portion=0.1)\n",
    "Y_train = train[:, -1][:, np.newaxis]\n",
    "Y_val = val[:, -1][:, np.newaxis]\n",
    "Y_test = test[:, -1][:, np.newaxis]\n",
    "train = train[:, :-3]\n",
    "val = val[:, :-3]\n",
    "test = test[:, :-3]"
   ]
  },
  {
   "cell_type": "markdown",
   "metadata": {},
   "source": [
    "# Train model"
   ]
  },
  {
   "cell_type": "code",
   "execution_count": 4,
   "metadata": {},
   "outputs": [],
   "source": [
    "import torch\n",
    "import torch.nn as nn\n",
    "import torch.optim as optim\n",
    "from copy import deepcopy\n",
    "from torch.utils.data import TensorDataset, DataLoader, RandomSampler, BatchSampler"
   ]
  },
  {
   "cell_type": "code",
   "execution_count": 5,
   "metadata": {
    "scrolled": true
   },
   "outputs": [],
   "source": [
    "# Create model\n",
    "device = torch.device('cuda', 7)\n",
    "model = nn.Sequential(\n",
    "    nn.Linear(12, 256),\n",
    "    nn.ELU(),\n",
    "    nn.Linear(256, 256),\n",
    "    nn.ELU(),\n",
    "    nn.Linear(256, 256),\n",
    "    nn.ELU(),\n",
    "    nn.Linear(256, 1)).to(device)\n",
    "\n",
    "# Training parameters\n",
    "lr = 1e-3\n",
    "mbsize = 64\n",
    "max_nepochs = 250\n",
    "loss_fn = nn.MSELoss()\n",
    "lookback = 50\n",
    "verbose = False\n",
    "\n",
    "# Data loaders\n",
    "train_set = TensorDataset(\n",
    "    torch.tensor(train, dtype=torch.float32),\n",
    "    torch.tensor(Y_train, dtype=torch.float32))\n",
    "train_loader = DataLoader(train_set, batch_size=mbsize, shuffle=True)\n",
    "val_x = torch.tensor(val, dtype=torch.float32, device=device)\n",
    "val_y = torch.tensor(Y_val, dtype=torch.float32, device=device)\n",
    "\n",
    "# Setup\n",
    "optimizer = optim.Adam(model.parameters(), lr=lr)\n",
    "min_criterion = np.inf\n",
    "min_epoch = 0\n",
    "\n",
    "# Train\n",
    "for epoch in range(max_nepochs):\n",
    "    for x, y in train_loader:\n",
    "        # Move to device.\n",
    "        x = x.to(device=device)\n",
    "        y = y.to(device=device)\n",
    "\n",
    "        # Take gradient step.\n",
    "        loss = loss_fn(model(x), y)\n",
    "        loss.backward()\n",
    "        optimizer.step()\n",
    "        model.zero_grad()\n",
    "\n",
    "    # Check progress.\n",
    "    with torch.no_grad():\n",
    "        # Calculate validation loss.\n",
    "        val_loss = loss_fn(model(val_x), val_y).item()\n",
    "        if verbose:\n",
    "            print('{}Epoch = {}{}'.format('-' * 10, epoch + 1, '-' * 10))\n",
    "            print('Val loss = {:.4f}'.format(val_loss))\n",
    "\n",
    "        # Check convergence criterion.\n",
    "        if val_loss < min_criterion:\n",
    "            min_criterion = val_loss\n",
    "            min_epoch = epoch\n",
    "            best_model = deepcopy(model)\n",
    "        elif (epoch - min_epoch) == lookback:\n",
    "            if verbose:\n",
    "                print('Stopping early')\n",
    "            break\n",
    "\n",
    "# Keep best model\n",
    "model = best_model"
   ]
  },
  {
   "cell_type": "code",
   "execution_count": 6,
   "metadata": {},
   "outputs": [
    {
     "name": "stdout",
     "output_type": "stream",
     "text": [
      "Base rate MSE = 32195.242\n",
      "Model MSE = 4765.896\n"
     ]
    }
   ],
   "source": [
    "# Base rate performance\n",
    "mean = torch.mean(val_y, dim=0, keepdim=True)\n",
    "print('Base rate MSE = {:.3f}'.format(\n",
    "    nn.MSELoss()(mean.repeat(len(val_y), 1), val_y)))\n",
    "\n",
    "# Model performance\n",
    "print('Model MSE = {:.3f}'.format(\n",
    "    nn.MSELoss()(model(val_x), val_y)))"
   ]
  },
  {
   "cell_type": "markdown",
   "metadata": {},
   "source": [
    "# Calculate feature importance"
   ]
  },
  {
   "cell_type": "code",
   "execution_count": 7,
   "metadata": {},
   "outputs": [],
   "source": [
    "import sage\n",
    "import matplotlib.pyplot as plt"
   ]
  },
  {
   "cell_type": "code",
   "execution_count": 8,
   "metadata": {},
   "outputs": [
    {
     "data": {
      "application/vnd.jupyter.widget-view+json": {
       "model_id": "2fd41b875c1949b097b8c996ce9a3408",
       "version_major": 2,
       "version_minor": 0
      },
      "text/plain": [
       "HBox(children=(FloatProgress(value=0.0, max=49152.0), HTML(value='')))"
      ]
     },
     "metadata": {},
     "output_type": "display_data"
    }
   ],
   "source": [
    "# Setup\n",
    "f = lambda x: model(torch.tensor(x, dtype=torch.float32, device=device)).cpu().data.numpy()\n",
    "imputer = sage.utils.MarginalImputer(train, 512)\n",
    "sampler = sage.PermutationSampler(f, imputer, 'mse')\n",
    "\n",
    "# Calculate SAGE values\n",
    "sage_values = sampler(xy=(test, Y_test),\n",
    "                      batch_size=2 ** 10,\n",
    "                      n_permutations=2 ** 12,\n",
    "                      bar=True)"
   ]
  },
  {
   "cell_type": "code",
   "execution_count": 9,
   "metadata": {},
   "outputs": [
    {
     "name": "stdout",
     "output_type": "stream",
     "text": [
      "\n"
     ]
    },
    {
     "data": {
      "image/png": "[encoded data removed]",
      "text/plain": [
       "<Figure size 864x504 with 1 Axes>"
      ]
     },
     "metadata": {
      "needs_background": "light"
     },
     "output_type": "display_data"
    }
   ],
   "source": [
    "# Plot results\n",
    "feature_names = list(map(str.title, features))\n",
    "sage_values.plot(feature_names)\n",
    "plt.show()"
   ]
  },
  {
   "cell_type": "code",
   "execution_count": null,
   "metadata": {},
   "outputs": [],
   "source": []
  }
 ],
 "metadata": {
  "kernelspec": {
   "display_name": "Python 3",
   "language": "python",
   "name": "python3"
  },
  "language_info": {
   "codemirror_mode": {
    "name": "ipython",
    "version": 3
   },
   "file_extension": ".py",
   "mimetype": "text/x-python",
   "name": "python",
   "nbconvert_exporter": "python",
   "pygments_lexer": "ipython3",
   "version": "3.6.8"
  }
 },
 "nbformat": 4,
 "nbformat_minor": 2
}
