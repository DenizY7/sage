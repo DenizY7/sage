{
 "cells": [
  {
   "cell_type": "markdown",
   "metadata": {},
   "source": [
    "# Load data\n",
    "\n",
    "<https://www.kaggle.com/dgomonov/new-york-city-airbnb-open-data>"
   ]
  },
  {
   "cell_type": "code",
   "execution_count": 1,
   "metadata": {},
   "outputs": [],
   "source": [
    "import re\n",
    "import sage\n",
    "import numpy as np\n",
    "import pandas as pd\n",
    "import gender_guesser.detector as detector\n",
    "from sklearn.model_selection import train_test_split"
   ]
  },
  {
   "cell_type": "code",
   "execution_count": 2,
   "metadata": {},
   "outputs": [
    {
     "data": {
      "text/html": [
       "<div>\n",
       "<style scoped>\n",
       "    .dataframe tbody tr th:only-of-type {\n",
       "        vertical-align: middle;\n",
       "    }\n",
       "\n",
       "    .dataframe tbody tr th {\n",
       "        vertical-align: top;\n",
       "    }\n",
       "\n",
       "    .dataframe thead th {\n",
       "        text-align: right;\n",
       "    }\n",
       "</style>\n",
       "<table border=\"1\" class=\"dataframe\">\n",
       "  <thead>\n",
       "    <tr style=\"text-align: right;\">\n",
       "      <th></th>\n",
       "      <th>id</th>\n",
       "      <th>name</th>\n",
       "      <th>host_id</th>\n",
       "      <th>host_name</th>\n",
       "      <th>neighbourhood_group</th>\n",
       "      <th>neighbourhood</th>\n",
       "      <th>latitude</th>\n",
       "      <th>longitude</th>\n",
       "      <th>room_type</th>\n",
       "      <th>price</th>\n",
       "      <th>minimum_nights</th>\n",
       "      <th>number_of_reviews</th>\n",
       "      <th>last_review</th>\n",
       "      <th>reviews_per_month</th>\n",
       "      <th>calculated_host_listings_count</th>\n",
       "      <th>availability_365</th>\n",
       "    </tr>\n",
       "  </thead>\n",
       "  <tbody>\n",
       "    <tr>\n",
       "      <th>0</th>\n",
       "      <td>2539</td>\n",
       "      <td>Clean &amp; quiet apt home by the park</td>\n",
       "      <td>2787</td>\n",
       "      <td>John</td>\n",
       "      <td>Brooklyn</td>\n",
       "      <td>Kensington</td>\n",
       "      <td>40.64749</td>\n",
       "      <td>-73.97237</td>\n",
       "      <td>Private room</td>\n",
       "      <td>149</td>\n",
       "      <td>1</td>\n",
       "      <td>9</td>\n",
       "      <td>2018-10-19</td>\n",
       "      <td>0.21</td>\n",
       "      <td>6</td>\n",
       "      <td>365</td>\n",
       "    </tr>\n",
       "    <tr>\n",
       "      <th>1</th>\n",
       "      <td>2595</td>\n",
       "      <td>Skylit Midtown Castle</td>\n",
       "      <td>2845</td>\n",
       "      <td>Jennifer</td>\n",
       "      <td>Manhattan</td>\n",
       "      <td>Midtown</td>\n",
       "      <td>40.75362</td>\n",
       "      <td>-73.98377</td>\n",
       "      <td>Entire home/apt</td>\n",
       "      <td>225</td>\n",
       "      <td>1</td>\n",
       "      <td>45</td>\n",
       "      <td>2019-05-21</td>\n",
       "      <td>0.38</td>\n",
       "      <td>2</td>\n",
       "      <td>355</td>\n",
       "    </tr>\n",
       "    <tr>\n",
       "      <th>2</th>\n",
       "      <td>3647</td>\n",
       "      <td>THE VILLAGE OF HARLEM....NEW YORK !</td>\n",
       "      <td>4632</td>\n",
       "      <td>Elisabeth</td>\n",
       "      <td>Manhattan</td>\n",
       "      <td>Harlem</td>\n",
       "      <td>40.80902</td>\n",
       "      <td>-73.94190</td>\n",
       "      <td>Private room</td>\n",
       "      <td>150</td>\n",
       "      <td>3</td>\n",
       "      <td>0</td>\n",
       "      <td>NaT</td>\n",
       "      <td>NaN</td>\n",
       "      <td>1</td>\n",
       "      <td>365</td>\n",
       "    </tr>\n",
       "    <tr>\n",
       "      <th>3</th>\n",
       "      <td>3831</td>\n",
       "      <td>Cozy Entire Floor of Brownstone</td>\n",
       "      <td>4869</td>\n",
       "      <td>LisaRoxanne</td>\n",
       "      <td>Brooklyn</td>\n",
       "      <td>Clinton Hill</td>\n",
       "      <td>40.68514</td>\n",
       "      <td>-73.95976</td>\n",
       "      <td>Entire home/apt</td>\n",
       "      <td>89</td>\n",
       "      <td>1</td>\n",
       "      <td>270</td>\n",
       "      <td>2019-07-05</td>\n",
       "      <td>4.64</td>\n",
       "      <td>1</td>\n",
       "      <td>194</td>\n",
       "    </tr>\n",
       "    <tr>\n",
       "      <th>4</th>\n",
       "      <td>5022</td>\n",
       "      <td>Entire Apt: Spacious Studio/Loft by central park</td>\n",
       "      <td>7192</td>\n",
       "      <td>Laura</td>\n",
       "      <td>Manhattan</td>\n",
       "      <td>East Harlem</td>\n",
       "      <td>40.79851</td>\n",
       "      <td>-73.94399</td>\n",
       "      <td>Entire home/apt</td>\n",
       "      <td>80</td>\n",
       "      <td>10</td>\n",
       "      <td>9</td>\n",
       "      <td>2018-11-19</td>\n",
       "      <td>0.10</td>\n",
       "      <td>1</td>\n",
       "      <td>0</td>\n",
       "    </tr>\n",
       "  </tbody>\n",
       "</table>\n",
       "</div>"
      ],
      "text/plain": [
       "     id                                              name  host_id  \\\n",
       "0  2539                Clean & quiet apt home by the park     2787   \n",
       "1  2595                             Skylit Midtown Castle     2845   \n",
       "2  3647               THE VILLAGE OF HARLEM....NEW YORK !     4632   \n",
       "3  3831                   Cozy Entire Floor of Brownstone     4869   \n",
       "4  5022  Entire Apt: Spacious Studio/Loft by central park     7192   \n",
       "\n",
       "     host_name neighbourhood_group neighbourhood  latitude  longitude  \\\n",
       "0         John            Brooklyn    Kensington  40.64749  -73.97237   \n",
       "1     Jennifer           Manhattan       Midtown  40.75362  -73.98377   \n",
       "2    Elisabeth           Manhattan        Harlem  40.80902  -73.94190   \n",
       "3  LisaRoxanne            Brooklyn  Clinton Hill  40.68514  -73.95976   \n",
       "4        Laura           Manhattan   East Harlem  40.79851  -73.94399   \n",
       "\n",
       "         room_type  price  minimum_nights  number_of_reviews last_review  \\\n",
       "0     Private room    149               1                  9  2018-10-19   \n",
       "1  Entire home/apt    225               1                 45  2019-05-21   \n",
       "2     Private room    150               3                  0         NaT   \n",
       "3  Entire home/apt     89               1                270  2019-07-05   \n",
       "4  Entire home/apt     80              10                  9  2018-11-19   \n",
       "\n",
       "   reviews_per_month  calculated_host_listings_count  availability_365  \n",
       "0               0.21                               6               365  \n",
       "1               0.38                               2               355  \n",
       "2                NaN                               1               365  \n",
       "3               4.64                               1               194  \n",
       "4               0.10                               1                 0  "
      ]
     },
     "execution_count": 2,
     "metadata": {},
     "output_type": "execute_result"
    }
   ],
   "source": [
    "# Load data\n",
    "df = sage.datasets.airbnb()\n",
    "\n",
    "# Sample rows\n",
    "df.head(5)"
   ]
  },
  {
   "cell_type": "code",
   "execution_count": 3,
   "metadata": {},
   "outputs": [],
   "source": [
    "# Categorical features\n",
    "categorical_columns = ['neighbourhood_group', 'neighbourhood', 'room_type']\n",
    "for column in categorical_columns:\n",
    "    df[column] = pd.Categorical(df[column]).codes"
   ]
  },
  {
   "cell_type": "code",
   "execution_count": 4,
   "metadata": {},
   "outputs": [],
   "source": [
    "# Exclude outliers (top 0.5%)\n",
    "df = df[df['price'] < df['price'].quantile(0.995)]"
   ]
  },
  {
   "cell_type": "code",
   "execution_count": 5,
   "metadata": {},
   "outputs": [],
   "source": [
    "# Features derived from name\n",
    "df['name_length'] = df['name'].apply(lambda x: len(x))\n",
    "df['name_isupper'] = df['name'].apply(lambda x: int(x.isupper()))\n",
    "df['name_words'] = df['name'].apply(lambda x: len(re.findall(r'\\w+', x)))"
   ]
  },
  {
   "cell_type": "code",
   "execution_count": 6,
   "metadata": {},
   "outputs": [],
   "source": [
    "# Host gender guess\n",
    "guesser = detector.Detector()\n",
    "df['host_gender'] = df['host_name'].apply(lambda x: guesser.get_gender(x.split(' ')[0]))\n",
    "df['host_gender'] = pd.Categorical(df['host_gender']).codes"
   ]
  },
  {
   "cell_type": "code",
   "execution_count": 7,
   "metadata": {},
   "outputs": [],
   "source": [
    "# Number of days since last review\n",
    "most_recent = df['last_review'].max()\n",
    "df['last_review'] = (most_recent - df['last_review']).dt.days\n",
    "df['last_review'] = (df['last_review'] - df['last_review'].mean()) / df['last_review'].std()\n",
    "df['last_review'] = df['last_review'].fillna(-5)"
   ]
  },
  {
   "cell_type": "code",
   "execution_count": 8,
   "metadata": {},
   "outputs": [],
   "source": [
    "# Missing values\n",
    "df['reviews_per_month'] = df['reviews_per_month'].fillna(0)"
   ]
  },
  {
   "cell_type": "code",
   "execution_count": 9,
   "metadata": {},
   "outputs": [],
   "source": [
    "# Normalize other numerical features\n",
    "df['number_of_reviews'] = (df['number_of_reviews'] - df['number_of_reviews'].mean()) / df['number_of_reviews'].std()\n",
    "df['availability_365'] = (df['availability_365'] - df['availability_365'].mean()) / df['availability_365'].std()\n",
    "df['name_length'] = (df['name_length'] - df['name_length'].mean()) / df['name_length'].std()"
   ]
  },
  {
   "cell_type": "code",
   "execution_count": 10,
   "metadata": {},
   "outputs": [],
   "source": [
    "# Normalize latitude and longitude\n",
    "df['latitude'] = (df['latitude'] - df['latitude'].mean()) / df['latitude'].std()\n",
    "df['longitude'] = (df['longitude'] - df['longitude'].mean()) / df['longitude'].std()"
   ]
  },
  {
   "cell_type": "code",
   "execution_count": 11,
   "metadata": {},
   "outputs": [],
   "source": [
    "# Drop columns\n",
    "df = df.drop(['id', 'host_id', 'host_name', 'name'], axis=1)"
   ]
  },
  {
   "cell_type": "code",
   "execution_count": 12,
   "metadata": {},
   "outputs": [
    {
     "data": {
      "text/html": [
       "<div>\n",
       "<style scoped>\n",
       "    .dataframe tbody tr th:only-of-type {\n",
       "        vertical-align: middle;\n",
       "    }\n",
       "\n",
       "    .dataframe tbody tr th {\n",
       "        vertical-align: top;\n",
       "    }\n",
       "\n",
       "    .dataframe thead th {\n",
       "        text-align: right;\n",
       "    }\n",
       "</style>\n",
       "<table border=\"1\" class=\"dataframe\">\n",
       "  <thead>\n",
       "    <tr style=\"text-align: right;\">\n",
       "      <th></th>\n",
       "      <th>neighbourhood_group</th>\n",
       "      <th>neighbourhood</th>\n",
       "      <th>latitude</th>\n",
       "      <th>longitude</th>\n",
       "      <th>room_type</th>\n",
       "      <th>price</th>\n",
       "      <th>minimum_nights</th>\n",
       "      <th>number_of_reviews</th>\n",
       "      <th>last_review</th>\n",
       "      <th>reviews_per_month</th>\n",
       "      <th>calculated_host_listings_count</th>\n",
       "      <th>availability_365</th>\n",
       "      <th>name_length</th>\n",
       "      <th>name_isupper</th>\n",
       "      <th>name_words</th>\n",
       "      <th>host_gender</th>\n",
       "    </tr>\n",
       "  </thead>\n",
       "  <tbody>\n",
       "    <tr>\n",
       "      <th>0</th>\n",
       "      <td>1</td>\n",
       "      <td>108</td>\n",
       "      <td>-1.492033</td>\n",
       "      <td>-0.440795</td>\n",
       "      <td>1</td>\n",
       "      <td>149</td>\n",
       "      <td>1</td>\n",
       "      <td>-0.321948</td>\n",
       "      <td>-0.034852</td>\n",
       "      <td>0.21</td>\n",
       "      <td>6</td>\n",
       "      <td>1.922931</td>\n",
       "      <td>-0.276169</td>\n",
       "      <td>0</td>\n",
       "      <td>7</td>\n",
       "      <td>2</td>\n",
       "    </tr>\n",
       "    <tr>\n",
       "      <th>1</th>\n",
       "      <td>2</td>\n",
       "      <td>127</td>\n",
       "      <td>0.452497</td>\n",
       "      <td>-0.687792</td>\n",
       "      <td>0</td>\n",
       "      <td>225</td>\n",
       "      <td>1</td>\n",
       "      <td>0.484307</td>\n",
       "      <td>-0.552366</td>\n",
       "      <td>0.38</td>\n",
       "      <td>2</td>\n",
       "      <td>1.846815</td>\n",
       "      <td>-1.513431</td>\n",
       "      <td>0</td>\n",
       "      <td>3</td>\n",
       "      <td>1</td>\n",
       "    </tr>\n",
       "    <tr>\n",
       "      <th>2</th>\n",
       "      <td>2</td>\n",
       "      <td>94</td>\n",
       "      <td>1.467544</td>\n",
       "      <td>0.219381</td>\n",
       "      <td>1</td>\n",
       "      <td>150</td>\n",
       "      <td>3</td>\n",
       "      <td>-0.523512</td>\n",
       "      <td>-5.000000</td>\n",
       "      <td>0.00</td>\n",
       "      <td>1</td>\n",
       "      <td>1.922931</td>\n",
       "      <td>-0.180995</td>\n",
       "      <td>1</td>\n",
       "      <td>6</td>\n",
       "      <td>1</td>\n",
       "    </tr>\n",
       "    <tr>\n",
       "      <th>3</th>\n",
       "      <td>1</td>\n",
       "      <td>41</td>\n",
       "      <td>-0.802204</td>\n",
       "      <td>-0.167581</td>\n",
       "      <td>0</td>\n",
       "      <td>89</td>\n",
       "      <td>1</td>\n",
       "      <td>5.523401</td>\n",
       "      <td>-0.661188</td>\n",
       "      <td>4.64</td>\n",
       "      <td>1</td>\n",
       "      <td>0.621350</td>\n",
       "      <td>-0.561691</td>\n",
       "      <td>0</td>\n",
       "      <td>5</td>\n",
       "      <td>5</td>\n",
       "    </tr>\n",
       "    <tr>\n",
       "      <th>4</th>\n",
       "      <td>2</td>\n",
       "      <td>61</td>\n",
       "      <td>1.274978</td>\n",
       "      <td>0.174098</td>\n",
       "      <td>0</td>\n",
       "      <td>80</td>\n",
       "      <td>10</td>\n",
       "      <td>-0.321948</td>\n",
       "      <td>-0.109819</td>\n",
       "      <td>0.10</td>\n",
       "      <td>1</td>\n",
       "      <td>-0.855298</td>\n",
       "      <td>1.056268</td>\n",
       "      <td>0</td>\n",
       "      <td>8</td>\n",
       "      <td>1</td>\n",
       "    </tr>\n",
       "  </tbody>\n",
       "</table>\n",
       "</div>"
      ],
      "text/plain": [
       "   neighbourhood_group  neighbourhood  latitude  longitude  room_type  price  \\\n",
       "0                    1            108 -1.492033  -0.440795          1    149   \n",
       "1                    2            127  0.452497  -0.687792          0    225   \n",
       "2                    2             94  1.467544   0.219381          1    150   \n",
       "3                    1             41 -0.802204  -0.167581          0     89   \n",
       "4                    2             61  1.274978   0.174098          0     80   \n",
       "\n",
       "   minimum_nights  number_of_reviews  last_review  reviews_per_month  \\\n",
       "0               1          -0.321948    -0.034852               0.21   \n",
       "1               1           0.484307    -0.552366               0.38   \n",
       "2               3          -0.523512    -5.000000               0.00   \n",
       "3               1           5.523401    -0.661188               4.64   \n",
       "4              10          -0.321948    -0.109819               0.10   \n",
       "\n",
       "   calculated_host_listings_count  availability_365  name_length  \\\n",
       "0                               6          1.922931    -0.276169   \n",
       "1                               2          1.846815    -1.513431   \n",
       "2                               1          1.922931    -0.180995   \n",
       "3                               1          0.621350    -0.561691   \n",
       "4                               1         -0.855298     1.056268   \n",
       "\n",
       "   name_isupper  name_words  host_gender  \n",
       "0             0           7            2  \n",
       "1             0           3            1  \n",
       "2             1           6            1  \n",
       "3             0           5            5  \n",
       "4             0           8            1  "
      ]
     },
     "execution_count": 12,
     "metadata": {},
     "output_type": "execute_result"
    }
   ],
   "source": [
    "# New sample rows\n",
    "df.head(5)"
   ]
  },
  {
   "cell_type": "code",
   "execution_count": 13,
   "metadata": {},
   "outputs": [],
   "source": [
    "# Rearrange columns\n",
    "target_col = 'price'\n",
    "cols = df.columns.tolist()\n",
    "del cols[cols.index(target_col)]\n",
    "cols.append(target_col)\n",
    "feature_names = cols[:-1]\n",
    "df = df[cols]\n",
    "\n",
    "# Split data\n",
    "train, test = train_test_split(\n",
    "    df.values, test_size=int(0.1 * len(df.values)), random_state=0)\n",
    "train, val = train_test_split(\n",
    "    train, test_size=int(0.1 * len(df.values)), random_state=0)\n",
    "Y_train = train[:, -1:].copy()\n",
    "Y_val = val[:, -1:].copy()\n",
    "Y_test = test[:, -1:].copy()\n",
    "train = train[:, :-1].copy()\n",
    "val = val[:, :-1].copy()\n",
    "test = test[:, :-1].copy()"
   ]
  },
  {
   "cell_type": "markdown",
   "metadata": {},
   "source": [
    "# Train model"
   ]
  },
  {
   "cell_type": "code",
   "execution_count": 14,
   "metadata": {},
   "outputs": [],
   "source": [
    "import torch\n",
    "import torch.nn as nn\n",
    "import torch.optim as optim\n",
    "from copy import deepcopy\n",
    "from torch.utils.data import TensorDataset, DataLoader"
   ]
  },
  {
   "cell_type": "code",
   "execution_count": 15,
   "metadata": {
    "scrolled": true
   },
   "outputs": [],
   "source": [
    "# Create model\n",
    "device = torch.device('cuda')\n",
    "model = nn.Sequential(\n",
    "    nn.Linear(len(feature_names), 512),\n",
    "    nn.ELU(),\n",
    "    nn.Linear(512, 512),\n",
    "    nn.ELU(),\n",
    "    nn.Linear(512, 1)).to(device)\n",
    "\n",
    "# Training parameters\n",
    "lr = 1e-3\n",
    "mbsize = 512\n",
    "max_nepochs = 250\n",
    "loss_fn = nn.MSELoss()\n",
    "lookback = 20\n",
    "verbose = False\n",
    "\n",
    "# Data loaders\n",
    "train_set = TensorDataset(\n",
    "    torch.tensor(train, dtype=torch.float32),\n",
    "    torch.tensor(Y_train, dtype=torch.float32))\n",
    "train_loader = DataLoader(train_set, batch_size=mbsize, shuffle=True)\n",
    "val_x = torch.tensor(val, dtype=torch.float32, device=device)\n",
    "val_y = torch.tensor(Y_val, dtype=torch.float32, device=device)\n",
    "test_x = torch.tensor(test, dtype=torch.float32, device=device)\n",
    "test_y = torch.tensor(Y_test, dtype=torch.float32, device=device)\n",
    "\n",
    "# Setup\n",
    "optimizer = optim.Adam(model.parameters(), lr=lr)\n",
    "min_criterion = np.inf\n",
    "min_epoch = 0\n",
    "\n",
    "# Train\n",
    "for epoch in range(max_nepochs):\n",
    "    for x, y in train_loader:\n",
    "        # Move to device\n",
    "        x = x.to(device=device)\n",
    "        y = y.to(device=device)\n",
    "\n",
    "        # Take gradient step\n",
    "        loss = loss_fn(model(x), y)\n",
    "        loss.backward()\n",
    "        optimizer.step()\n",
    "        model.zero_grad()\n",
    "\n",
    "    # Check progress.\n",
    "    with torch.no_grad():\n",
    "        # Calculate validation loss.\n",
    "        val_loss = loss_fn(model(val_x), val_y).item()\n",
    "        if verbose:\n",
    "            print('{}Epoch = {}{}'.format('-' * 10, epoch + 1, '-' * 10))\n",
    "            print('Val loss = {:.4f}'.format(val_loss))\n",
    "\n",
    "        # Check convergence criterion.\n",
    "        if val_loss < min_criterion:\n",
    "            min_criterion = val_loss\n",
    "            min_epoch = epoch\n",
    "            best_model = deepcopy(model)\n",
    "        elif (epoch - min_epoch) == lookback:\n",
    "            if verbose:\n",
    "                print('Stopping early')\n",
    "            break\n",
    "\n",
    "# Keep best model\n",
    "model = best_model"
   ]
  },
  {
   "cell_type": "code",
   "execution_count": 16,
   "metadata": {},
   "outputs": [
    {
     "name": "stdout",
     "output_type": "stream",
     "text": [
      "Base rate MSE = 12293.56\n",
      "Model MSE = 6655.51\n"
     ]
    }
   ],
   "source": [
    "# Calculate performance\n",
    "mean = torch.mean(train_set.tensors[1], dim=0, keepdim=True).to(device)\n",
    "base_mse = nn.MSELoss()(mean.repeat(len(test_y), 1), test_y)\n",
    "mse = nn.MSELoss()(model(test_x), test_y)\n",
    "\n",
    "print('Base rate MSE = {:.2f}'.format(base_mse))\n",
    "print('Model MSE = {:.2f}'.format(mse))"
   ]
  },
  {
   "cell_type": "markdown",
   "metadata": {},
   "source": [
    "# Calculate individual feature importance"
   ]
  },
  {
   "cell_type": "code",
   "execution_count": 17,
   "metadata": {},
   "outputs": [
    {
     "name": "stdout",
     "output_type": "stream",
     "text": [
      "Setting up imputer for PyTorch model, assuming that any necessary output activations are applied properly. If not, please set up nn.Sequential with nn.Sigmoid or nn.Softmax\n"
     ]
    },
    {
     "data": {
      "application/vnd.jupyter.widget-view+json": {
       "model_id": "cff131d653304fbebbe7b9d1cb7feb8e",
       "version_major": 2,
       "version_minor": 0
      },
      "text/plain": [
       "HBox(children=(FloatProgress(value=0.0, max=1.0), HTML(value='')))"
      ]
     },
     "metadata": {},
     "output_type": "display_data"
    },
    {
     "name": "stdout",
     "output_type": "stream",
     "text": [
      "\n"
     ]
    }
   ],
   "source": [
    "# Setup and calculate\n",
    "imputer = sage.MarginalImputer(model, test[:512])\n",
    "estimator = sage.PermutationEstimator(imputer, 'mse')\n",
    "sage_values = estimator(test, Y_test)"
   ]
  },
  {
   "cell_type": "code",
   "execution_count": 18,
   "metadata": {},
   "outputs": [
    {
     "data": {
      "image/png": "[encoded data removed]",
      "text/plain": [
       "<Figure size 720x504 with 1 Axes>"
      ]
     },
     "metadata": {
      "needs_background": "light"
     },
     "output_type": "display_data"
    }
   ],
   "source": [
    "# Plot results\n",
    "sage_values.plot(feature_names)"
   ]
  },
  {
   "cell_type": "markdown",
   "metadata": {},
   "source": [
    "# Calculate grouped feature importance"
   ]
  },
  {
   "cell_type": "code",
   "execution_count": 19,
   "metadata": {},
   "outputs": [],
   "source": [
    "# Feature groups\n",
    "feature_groups = group_names = {\n",
    "    'location (grouped)': ['latitude', 'longitude', 'neighbourhood', 'neighbourhood_group'],\n",
    "    'name (grouped)': ['name_words', 'name_length', 'name_isupper'],\n",
    "    'reviews (grouped)': ['last_review', 'reviews_per_month', 'number_of_reviews'],\n",
    "    'host (grouped)': ['host_gender', 'calculated_host_listings_count'],\n",
    "    'availability': ['availability_365'],\n",
    "    'room_type': ['room_type']\n",
    "}\n",
    "group_names = [group for group in feature_groups]\n",
    "for col in feature_names:\n",
    "    if np.all([col not in group[1] for group in feature_groups.items()]):\n",
    "        group_names.append(col)\n",
    "\n",
    "# Group indices\n",
    "groups = []\n",
    "for _, group in feature_groups.items():\n",
    "    ind_list = []\n",
    "    for feature in group:\n",
    "        ind_list.append(cols.index(feature))\n",
    "    groups.append(ind_list)"
   ]
  },
  {
   "cell_type": "code",
   "execution_count": 20,
   "metadata": {},
   "outputs": [
    {
     "name": "stdout",
     "output_type": "stream",
     "text": [
      "Setting up imputer for PyTorch model, assuming that any necessary output activations are applied properly. If not, please set up nn.Sequential with nn.Sigmoid or nn.Softmax\n"
     ]
    },
    {
     "data": {
      "application/vnd.jupyter.widget-view+json": {
       "model_id": "7cff6daac46447b6a965d5faebad9fd4",
       "version_major": 2,
       "version_minor": 0
      },
      "text/plain": [
       "HBox(children=(FloatProgress(value=0.0, max=1.0), HTML(value='')))"
      ]
     },
     "metadata": {},
     "output_type": "display_data"
    },
    {
     "name": "stdout",
     "output_type": "stream",
     "text": [
      "\n"
     ]
    }
   ],
   "source": [
    "# Setup and calculate\n",
    "imputer = sage.GroupedMarginalImputer(model, test[:512], groups)\n",
    "estimator = sage.PermutationEstimator(imputer, 'mse')\n",
    "sage_values = estimator(test, Y_test)"
   ]
  },
  {
   "cell_type": "code",
   "execution_count": 21,
   "metadata": {},
   "outputs": [
    {
     "data": {
      "image/png": "[encoded data removed]",
      "text/plain": [
       "<Figure size 720x504 with 1 Axes>"
      ]
     },
     "metadata": {
      "needs_background": "light"
     },
     "output_type": "display_data"
    }
   ],
   "source": [
    "# Plot results\n",
    "sage_values.plot(group_names)"
   ]
  },
  {
   "cell_type": "code",
   "execution_count": null,
   "metadata": {},
   "outputs": [],
   "source": []
  }
 ],
 "metadata": {
  "kernelspec": {
   "display_name": "Python 3",
   "language": "python",
   "name": "python3"
  },
  "language_info": {
   "codemirror_mode": {
    "name": "ipython",
    "version": 3
   },
   "file_extension": ".py",
   "mimetype": "text/x-python",
   "name": "python",
   "nbconvert_exporter": "python",
   "pygments_lexer": "ipython3",
   "version": "3.6.8"
  }
 },
 "nbformat": 4,
 "nbformat_minor": 4
}
