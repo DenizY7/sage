{
 "cells": [
  {
   "cell_type": "markdown",
   "id": "responsible-compromise",
   "metadata": {},
   "source": [
    "# Load data\n",
    "\n",
    "<https://www.kaggle.com/c/bike-sharing-demand>"
   ]
  },
  {
   "cell_type": "code",
   "execution_count": null,
   "id": "rotary-header",
   "metadata": {},
   "outputs": [],
   "source": [
    "import sage\n",
    "import numpy as np\n",
    "import matplotlib.pyplot as plt\n",
    "from sklearn.model_selection import train_test_split"
   ]
  },
  {
   "cell_type": "code",
   "execution_count": null,
   "id": "micro-commodity",
   "metadata": {},
   "outputs": [],
   "source": [
    "# Load data\n",
    "df = sage.datasets.bike()\n",
    "feature_names = df.columns.tolist()[:-3]"
   ]
  },
  {
   "cell_type": "code",
   "execution_count": null,
   "id": "tribal-territory",
   "metadata": {},
   "outputs": [],
   "source": [
    "# Split data, with total count serving as regression target\n",
    "train, test = train_test_split(\n",
    "    df.values, test_size=int(0.1 * len(df.values)), random_state=123)\n",
    "train, val = train_test_split(\n",
    "    train, test_size=int(0.1 * len(df.values)), random_state=123)\n",
    "Y_train = train[:, -1].copy()\n",
    "Y_val = val[:, -1].copy()\n",
    "Y_test = test[:, -1].copy()\n",
    "train = train[:, :-3].copy()\n",
    "val = val[:, :-3].copy()\n",
    "test = test[:, :-3].copy()"
   ]
  },
  {
   "cell_type": "markdown",
   "id": "humanitarian-income",
   "metadata": {},
   "source": [
    "# Train model"
   ]
  },
  {
   "cell_type": "code",
   "execution_count": null,
   "id": "outstanding-titanium",
   "metadata": {},
   "outputs": [],
   "source": [
    "import xgboost as xgb"
   ]
  },
  {
   "cell_type": "code",
   "execution_count": null,
   "id": "entire-convenience",
   "metadata": {},
   "outputs": [],
   "source": [
    "# Set up data\n",
    "dtrain = xgb.DMatrix(train, label=Y_train)\n",
    "dval = xgb.DMatrix(val, label=Y_val)\n",
    "\n",
    "# Parameters\n",
    "param = {\n",
    "    'max_depth' : 10,\n",
    "    'objective': 'reg:squarederror',\n",
    "    'nthread': 4\n",
    "}\n",
    "evallist = [(dtrain, 'train'), (dval, 'val')]\n",
    "num_round = 50\n",
    "\n",
    "# Train\n",
    "model = xgb.train(param, dtrain, num_round, evallist, verbose_eval=False)"
   ]
  },
  {
   "cell_type": "code",
   "execution_count": null,
   "id": "bronze-cleanup",
   "metadata": {},
   "outputs": [],
   "source": [
    "# Calculate performance\n",
    "mean = np.mean(Y_train)\n",
    "base_mse = np.mean((mean - Y_test) ** 2)\n",
    "mse = np.mean((model.predict(xgb.DMatrix(test)) - Y_test) ** 2)\n",
    "\n",
    "print('Base rate MSE = {:.2f}'.format(base_mse))\n",
    "print('Model MSE = {:.2f}'.format(mse))"
   ]
  },
  {
   "cell_type": "markdown",
   "id": "accredited-salon",
   "metadata": {},
   "source": [
    "# Setup"
   ]
  },
  {
   "cell_type": "code",
   "execution_count": null,
   "id": "mexican-importance",
   "metadata": {},
   "outputs": [],
   "source": [
    "# Set up imputer\n",
    "imputer = sage.MarginalImputer(model, test[:512])\n",
    "\n",
    "# Set up estimators\n",
    "permutation_estimator = sage.PermutationEstimator(imputer, 'mse', random_state=0)\n",
    "parallel_permutation_estimator = sage.PermutationEstimator(imputer, 'mse', n_jobs=-1, random_state=0)\n",
    "iterated_estimator = sage.IteratedEstimator(imputer, 'mse', random_state=0)\n",
    "kernel_estimator = sage.KernelEstimator(imputer, 'mse', random_state=0)"
   ]
  },
  {
   "cell_type": "markdown",
   "id": "decreased-canada",
   "metadata": {},
   "source": [
    "# SAGE"
   ]
  },
  {
   "cell_type": "code",
   "execution_count": null,
   "id": "sorted-certification",
   "metadata": {},
   "outputs": [],
   "source": [
    "explanation1 = permutation_estimator(test, Y_test, thresh=0.02)\n",
    "explanation2 = parallel_permutation_estimator(test, Y_test, thresh=0.02)\n",
    "explanation3 = iterated_estimator(test, Y_test, thresh=0.02)\n",
    "explanation4 = kernel_estimator(test, Y_test, thresh=0.02)"
   ]
  },
  {
   "cell_type": "code",
   "execution_count": null,
   "id": "convenient-organization",
   "metadata": {
    "scrolled": false
   },
   "outputs": [],
   "source": [
    "explanations = [explanation1, explanation2, explanation3, explanation4]\n",
    "names = ['Permutation Estimator', 'Parallel Permutation Estimator', 'Iterated Estimator', 'Kernel Estimator']\n",
    "\n",
    "for i in range(len(explanations)):\n",
    "    for j in range(i + 1, len(explanations)):\n",
    "        plt.figure()\n",
    "        \n",
    "        plt.scatter(explanations[i].values, explanations[j].values)\n",
    "        plt.plot([0, 18000], [0, 18000], linestyle=':', color='black')\n",
    "        plt.xlabel(names[i])\n",
    "        plt.ylabel(names[j])\n",
    "        plt.tight_layout()\n",
    "        plt.show()"
   ]
  },
  {
   "cell_type": "markdown",
   "id": "first-chair",
   "metadata": {},
   "source": [
    "# Shapley Effects"
   ]
  },
  {
   "cell_type": "code",
   "execution_count": null,
   "id": "removed-prayer",
   "metadata": {},
   "outputs": [],
   "source": [
    "explanation1 = permutation_estimator(test, thresh=0.02)\n",
    "explanation2 = parallel_permutation_estimator(test, thresh=0.02)\n",
    "explanation3 = iterated_estimator(test, thresh=0.02)\n",
    "explanation4 = kernel_estimator(test, thresh=0.02)"
   ]
  },
  {
   "cell_type": "code",
   "execution_count": null,
   "id": "saving-excerpt",
   "metadata": {
    "scrolled": false
   },
   "outputs": [],
   "source": [
    "explanations = [explanation1, explanation2, explanation3, explanation4]\n",
    "names = ['Permutation Estimator', 'Parallel Permutation Estimator', 'Iterated Estimator', 'Kernel Estimator']\n",
    "\n",
    "for i in range(len(explanations)):\n",
    "    for j in range(i + 1, len(explanations)):\n",
    "        plt.figure()\n",
    "        \n",
    "        plt.scatter(explanations[i].values, explanations[j].values)\n",
    "        plt.plot([0, 18000], [0, 18000], linestyle=':', color='black')\n",
    "        plt.xlabel(names[i])\n",
    "        plt.ylabel(names[j])\n",
    "        plt.tight_layout()\n",
    "        plt.show()"
   ]
  },
  {
   "cell_type": "code",
   "execution_count": null,
   "id": "invalid-nancy",
   "metadata": {},
   "outputs": [],
   "source": []
  }
 ],
 "metadata": {
  "kernelspec": {
   "display_name": "sage",
   "language": "python",
   "name": "sage"
  },
  "language_info": {
   "codemirror_mode": {
    "name": "ipython",
    "version": 3
   },
   "file_extension": ".py",
   "mimetype": "text/x-python",
   "name": "python",
   "nbconvert_exporter": "python",
   "pygments_lexer": "ipython3",
   "version": "3.9.13"
  }
 },
 "nbformat": 4,
 "nbformat_minor": 5
}
