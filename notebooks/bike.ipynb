{
 "cells": [
  {
   "cell_type": "markdown",
   "metadata": {},
   "source": [
    "# Load data\n",
    "<https://www.kaggle.com/c/bike-sharing-demand>"
   ]
  },
  {
   "cell_type": "code",
   "execution_count": 1,
   "metadata": {},
   "outputs": [],
   "source": [
    "import numpy as np\n",
    "import pandas as pd\n",
    "import sys; sys.path.insert(0, '..')\n",
    "from data.utils import split_data"
   ]
  },
  {
   "cell_type": "code",
   "execution_count": 2,
   "metadata": {},
   "outputs": [],
   "source": [
    "# Load data\n",
    "df = pd.read_table('../data/bike.csv', sep=',',\n",
    "                   header=0, index_col=None)\n",
    "columns = list(df.columns)\n",
    "\n",
    "# Split datetime column\n",
    "df['datetime'] = pd.to_datetime(df['datetime'])\n",
    "df['year'] = df['datetime'].dt.year\n",
    "df['month'] = df['datetime'].dt.month\n",
    "df['day'] = df['datetime'].dt.day\n",
    "df['hour'] = df['datetime'].dt.hour\n",
    "\n",
    "# Remove datetime column\n",
    "df = df.drop('datetime', axis=1)\n",
    "\n",
    "# Reorder columns\n",
    "df = df[['year', 'month', 'day', 'hour'] + columns[1:]]\n",
    "\n",
    "# Feature names\n",
    "feature_names = list(map(str.title, df.columns[:-3]))"
   ]
  },
  {
   "cell_type": "code",
   "execution_count": 3,
   "metadata": {},
   "outputs": [],
   "source": [
    "# Split data, with total count serving as regression target\n",
    "train, val, test = split_data(df.values, seed=123,\n",
    "                              val_portion=0.1,\n",
    "                              test_portion=0.1)\n",
    "Y_train = train[:, -1].copy()\n",
    "Y_val = val[:, -1].copy()\n",
    "Y_test = test[:, -1].copy()\n",
    "train = train[:, :-3].copy()\n",
    "val = val[:, :-3].copy()\n",
    "test = test[:, :-3].copy()"
   ]
  },
  {
   "cell_type": "markdown",
   "metadata": {},
   "source": [
    "# Train model"
   ]
  },
  {
   "cell_type": "code",
   "execution_count": 4,
   "metadata": {},
   "outputs": [],
   "source": [
    "import xgboost as xgb"
   ]
  },
  {
   "cell_type": "code",
   "execution_count": 5,
   "metadata": {},
   "outputs": [],
   "source": [
    "# Set up data\n",
    "dtrain = xgb.DMatrix(train, label=Y_train)\n",
    "dval = xgb.DMatrix(val, label=Y_val)\n",
    "\n",
    "# Parameters\n",
    "param = {\n",
    "    'max_depth' : 10,\n",
    "    'objective': 'reg:squarederror',\n",
    "    'nthread': 4\n",
    "}\n",
    "evallist = [(dtrain, 'train'), (dval, 'val')]\n",
    "num_round = 50\n",
    "\n",
    "# Train\n",
    "model = xgb.train(param, dtrain, num_round, evallist, verbose_eval=False)"
   ]
  },
  {
   "cell_type": "code",
   "execution_count": 6,
   "metadata": {},
   "outputs": [
    {
     "name": "stdout",
     "output_type": "stream",
     "text": [
      "Base rate MSE = 31590.49\n",
      "Model MSE = 1979.87\n"
     ]
    }
   ],
   "source": [
    "# Calculate performance\n",
    "mean = np.mean(Y_train)\n",
    "base_mse = np.mean((mean - Y_test) ** 2)\n",
    "mse = np.mean((model.predict(xgb.DMatrix(test)) - Y_test) ** 2)\n",
    "\n",
    "print('Base rate MSE = {:.2f}'.format(base_mse))\n",
    "print('Model MSE = {:.2f}'.format(mse))"
   ]
  },
  {
   "cell_type": "markdown",
   "metadata": {},
   "source": [
    "# Calculate feature importance"
   ]
  },
  {
   "cell_type": "code",
   "execution_count": 7,
   "metadata": {},
   "outputs": [],
   "source": [
    "import sage\n",
    "import matplotlib.pyplot as plt"
   ]
  },
  {
   "cell_type": "code",
   "execution_count": 8,
   "metadata": {
    "scrolled": true
   },
   "outputs": [
    {
     "name": "stdout",
     "output_type": "stream",
     "text": [
      "Estimating convergence time\n",
      "Batch size = batch * samples = 262144\n"
     ]
    },
    {
     "data": {
      "application/vnd.jupyter.widget-view+json": {
       "model_id": "fc9f55ab4a0d4ddd98ecd377d938001b",
       "version_major": 2,
       "version_minor": 0
      },
      "text/plain": [
       "HBox(children=(FloatProgress(value=0.0, max=1.0), HTML(value='')))"
      ]
     },
     "metadata": {},
     "output_type": "display_data"
    },
    {
     "name": "stdout",
     "output_type": "stream",
     "text": [
      "StdDev Ratio = 0.0925 (Converge at 0.0500)\n",
      "StdDev Ratio = 0.0717 (Converge at 0.0500)\n",
      "StdDev Ratio = 0.0596 (Converge at 0.0500)\n",
      "StdDev Ratio = 0.0543 (Converge at 0.0500)\n",
      "StdDev Ratio = 0.0487 (Converge at 0.0500)\n",
      "Detected convergence\n",
      "\n"
     ]
    }
   ],
   "source": [
    "# Setup and calculate\n",
    "imputer = sage.MarginalImputer(test[:512])\n",
    "sampler = sage.PermutationSampler(model, imputer, 'mse')\n",
    "sage_values = sampler(test, Y_test)"
   ]
  },
  {
   "cell_type": "code",
   "execution_count": 9,
   "metadata": {},
   "outputs": [
    {
     "data": {
      "image/png": "[encoded data removed]",
      "text/plain": [
       "<Figure size 720x504 with 1 Axes>"
      ]
     },
     "metadata": {
      "needs_background": "light"
     },
     "output_type": "display_data"
    }
   ],
   "source": [
    "# Plot results\n",
    "sage_values.plot(feature_names)"
   ]
  },
  {
   "cell_type": "markdown",
   "metadata": {},
   "source": [
    "# Calculate model sensitivity (no labels)"
   ]
  },
  {
   "cell_type": "code",
   "execution_count": 10,
   "metadata": {},
   "outputs": [
    {
     "name": "stdout",
     "output_type": "stream",
     "text": [
      "Using model output to calculate sensitivity\n",
      "Estimating convergence time\n",
      "Batch size = batch * samples = 262144\n"
     ]
    },
    {
     "data": {
      "application/vnd.jupyter.widget-view+json": {
       "model_id": "684e8a247aff4a58a93296e3ea660a3d",
       "version_major": 2,
       "version_minor": 0
      },
      "text/plain": [
       "HBox(children=(FloatProgress(value=0.0, max=1.0), HTML(value='')))"
      ]
     },
     "metadata": {},
     "output_type": "display_data"
    },
    {
     "name": "stdout",
     "output_type": "stream",
     "text": [
      "StdDev Ratio = 0.1090 (Converge at 0.0500)\n",
      "StdDev Ratio = 0.0717 (Converge at 0.0500)\n",
      "StdDev Ratio = 0.0566 (Converge at 0.0500)\n",
      "StdDev Ratio = 0.0486 (Converge at 0.0500)\n",
      "Detected convergence\n",
      "\n"
     ]
    }
   ],
   "source": [
    "# Setup and calculate\n",
    "imputer = sage.MarginalImputer(test[:512])\n",
    "sampler = sage.PermutationSampler(model, imputer, 'mse')\n",
    "sensitivity = sampler(test)"
   ]
  },
  {
   "cell_type": "code",
   "execution_count": 11,
   "metadata": {},
   "outputs": [
    {
     "data": {
      "image/png": "[encoded data removed]",
      "text/plain": [
       "<Figure size 720x504 with 1 Axes>"
      ]
     },
     "metadata": {
      "needs_background": "light"
     },
     "output_type": "display_data"
    }
   ],
   "source": [
    "# Plot results\n",
    "sensitivity.plot(feature_names, title='Model Sensitivity')"
   ]
  },
  {
   "cell_type": "code",
   "execution_count": null,
   "metadata": {},
   "outputs": [],
   "source": []
  }
 ],
 "metadata": {
  "kernelspec": {
   "display_name": "Python 3",
   "language": "python",
   "name": "python3"
  },
  "language_info": {
   "codemirror_mode": {
    "name": "ipython",
    "version": 3
   },
   "file_extension": ".py",
   "mimetype": "text/x-python",
   "name": "python",
   "nbconvert_exporter": "python",
   "pygments_lexer": "ipython3",
   "version": "3.6.8"
  }
 },
 "nbformat": 4,
 "nbformat_minor": 2
}
